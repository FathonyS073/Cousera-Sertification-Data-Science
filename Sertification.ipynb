{
 "cells": [
  {
   "cell_type": "markdown",
   "id": "27584b4d",
   "metadata": {},
   "source": [
    "# Data Science Tools and Ecosystem\n"
   ]
  }
 ],
 "metadata": {
  "language_info": {
   "name": "python"
  }
 },
 "nbformat": 4,
 "nbformat_minor": 5
}
